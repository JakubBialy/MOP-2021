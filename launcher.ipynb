{
 "cells": [
  {
   "cell_type": "code",
   "execution_count": 1,
   "metadata": {
    "collapsed": true
   },
   "outputs": [
    {
     "name": "stdout",
     "output_type": "stream",
     "text": [
      "Colab: False\n"
     ]
    }
   ],
   "source": [
    "import os\n",
    "\n",
    "from config.config import get_model_dir\n",
    "from data.crypto_archive_data_loader import CryptoArchiveDataLoader\n",
    "from data.utils import divide_data, split_dataset\n",
    "from ml.model import load_else_create\n",
    "from stats.data_statistics import generate_prediction_xy_plot\n",
    "from utils.utils import colab_detected\n",
    "\n",
    "model_dir = get_model_dir()\n",
    "\n",
    "print(f'Colab detected: {colab_detected()}')\n",
    "\n",
    "# Data\n",
    "# CryptoArchiveDataLoader.clear_all_caches()  # Optional\n",
    "data_loader = CryptoArchiveDataLoader()\n",
    "data = data_loader.load('ETHUSDT')\n",
    "\n",
    "# Data Normalziation\n",
    "normalized_data, norm_meta = CryptoArchiveDataLoader.normalize(data)\n",
    "\n",
    "# todo Data Shuffle\n",
    "\n",
    "# Dataset divide\n",
    "train_data, valid_data = divide_data(normalized_data, 75, 25)\n",
    "\n",
    "# Dataset split\n",
    "train_x, train_y = split_dataset(train_data)\n",
    "valid_x, valid_y = split_dataset(valid_data)\n",
    "\n",
    "# Delete Garbage:\n",
    "data = None\n",
    "normalized_data = None\n",
    "train_data = None\n",
    "valid_data = None\n",
    "\n",
    "# Model Train\n",
    "model = load_else_create(os.path.join(model_dir, 'model_0'))\n",
    "model.train(train_x, train_y, valid_x, valid_y)\n",
    "\n",
    "# Data Predict\n",
    "pred_x = None\n",
    "pred_y = model.predict(pred_x)\n",
    "\n",
    "# Statistics Generation\n",
    "generate_prediction_xy_plot(pred_x, pred_y)\n"
   ]
  }
 ],
 "metadata": {
  "kernelspec": {
   "display_name": "Python 3",
   "language": "python",
   "name": "python3"
  },
  "language_info": {
   "codemirror_mode": {
    "name": "ipython",
    "version": 2
   },
   "file_extension": ".py",
   "mimetype": "text/x-python",
   "name": "python",
   "nbconvert_exporter": "python",
   "pygments_lexer": "ipython2",
   "version": "2.7.6"
  }
 },
 "nbformat": 4,
 "nbformat_minor": 0
}